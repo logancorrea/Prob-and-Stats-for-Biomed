{
 "cells": [
  {
   "cell_type": "code",
   "execution_count": 4,
   "metadata": {},
   "outputs": [],
   "source": [
    "import os\n",
    "import pandas as pd\n",
    "\n",
    "# Read the CSV file\n",
    "df = pd.read_csv('data2/LUSC.csv')\n",
    "\n",
    "# Determine the number of rows in each part\n",
    "num_rows = len(df) // 6\n",
    "\n",
    "# Split the dataframe into 5 equal parts\n",
    "parts = [df[i*num_rows:(i+1)*num_rows] for i in range(6)]\n",
    "\n",
    "# Create the folder if it doesn't exist\n",
    "folder_name = \"Data3\"\n",
    "os.makedirs(folder_name, exist_ok=True)\n",
    "\n",
    "# Save each part into separate CSV files inside the \"data3\" folder\n",
    "for i, part in enumerate(parts):\n",
    "    part.to_csv(os.path.join(folder_name, f'part_{i+1}.csv'), index=False)"
   ]
  }
 ],
 "metadata": {
  "kernelspec": {
   "display_name": "Python 3",
   "language": "python",
   "name": "python3"
  },
  "language_info": {
   "codemirror_mode": {
    "name": "ipython",
    "version": 3
   },
   "file_extension": ".py",
   "mimetype": "text/x-python",
   "name": "python",
   "nbconvert_exporter": "python",
   "pygments_lexer": "ipython3",
   "version": "3.11.4"
  }
 },
 "nbformat": 4,
 "nbformat_minor": 2
}
